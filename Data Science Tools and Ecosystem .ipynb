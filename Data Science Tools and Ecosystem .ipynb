{
 "cells": [
  {
   "cell_type": "markdown",
   "id": "2accad32-5595-43a7-8521-045f120964a9",
   "metadata": {},
   "source": [
    "Exercise 2: Create markdown cell with title of the notebook"
   ]
  },
  {
   "cell_type": "markdown",
   "id": "62387879-aed6-4cf7-a07a-4f3b78556ebe",
   "metadata": {},
   "source": [
    "Exercise 3 - Create a markdown cell for an introduction\n",
    "# Hello team, my name is Sampson Somah,"
   ]
  },
  {
   "cell_type": "markdown",
   "id": "920febd8-3185-479c-a6cb-7bc260307c6c",
   "metadata": {},
   "source": [
    "Exercise 10 - Insert a markdown cell to list Objectives\n",
    "\n",
    "**Objectives**\n",
    "# take away from the course\n",
    "# list of string\n",
    "Course_list = [ API Libraries, data integration and transformation tools, data visualization tools, model deployment tools, data management tools]"
   ]
  },
  {
   "cell_type": "markdown",
   "id": "2c54e5d8-e4c3-4909-bc39-4957cbf87629",
   "metadata": {},
   "source": [
    "Exercise 4 - Create a markdown cell to list data science languages\n",
    "\n",
    "# Some of the popular languages that Data Scientists use are: Python, Java , R\n"
   ]
  },
  {
   "cell_type": "markdown",
   "id": "7400f20a-fef6-41c8-a51e-33df846d510c",
   "metadata": {},
   "source": [
    " Exercise 5 - Create a markdown cell to list data science libraries\n",
    " # Some of the commonly used libraries used by Data Scientists include: Pandas , Numpy , Matplotlib\n",
    " "
   ]
  },
  {
   "cell_type": "code",
   "execution_count": null,
   "id": "5a7e147b-cc2d-4bac-88b7-4b35fdcfd54b",
   "metadata": {},
   "outputs": [],
   "source": [
    "#Exercise 6 - Create a markdown cell with a table of Data Science tools\n",
    "\n",
    "| Data Science Tools |\n",
    " --------------------\n",
    "| IBM Watson Studio |\n",
    "| IBM Watson Open Source |\n",
    "| IBM Watson Machine Learning |"
   ]
  },
  {
   "cell_type": "code",
   "execution_count": null,
   "id": "00233f0d-db24-46d6-b225-8da10466d337",
   "metadata": {},
   "outputs": [],
   "source": [
    "Exercise 7 - Create a markdown cell introducing arithmetic expression examples\n",
    "# Addition\n",
    "Result_add = 3+3\n",
    "print(Result_add)"
   ]
  },
  {
   "cell_type": "code",
   "execution_count": null,
   "id": "81d74141-0a7e-4503-95e6-5299bc3bdbcd",
   "metadata": {},
   "outputs": [],
   "source": []
  },
  {
   "cell_type": "code",
   "execution_count": 26,
   "id": "27b9f6b5-f43d-4904-84f9-6576b6a45ec2",
   "metadata": {},
   "outputs": [
    {
     "name": "stdout",
     "output_type": "stream",
     "text": [
      "17\n"
     ]
    }
   ],
   "source": [
    "#Exercise 8 - Create a code cell to multiply and add numbers\n",
    "# Multiplication and addition\n",
    "\n",
    "Results_mul_add = (3 * 4) +5\n",
    "print(Results_mul_add)\n"
   ]
  },
  {
   "cell_type": "code",
   "execution_count": 1,
   "id": "701a19f7-c41e-413a-888e-4797aea556ce",
   "metadata": {},
   "outputs": [
    {
     "name": "stdout",
     "output_type": "stream",
     "text": [
      "3.3333333333333335\n"
     ]
    }
   ],
   "source": [
    "#Exercise 9 - Create a code cell to convert minutes to hours\n",
    "# converting 200 mins to hrs\n",
    "Results_div = 200/60\n",
    "print(Results_div)"
   ]
  },
  {
   "cell_type": "code",
   "execution_count": null,
   "id": "124ff960-4812-494c-9222-c58677950e3d",
   "metadata": {},
   "outputs": [],
   "source": [
    "Exercise 11 - Create a markdown cell to indicate the Author's name\n",
    "##  Lakshmi Holla,  Niveditha Pandith\n",
    "Sampson Somah"
   ]
  }
 ],
 "metadata": {
  "kernelspec": {
   "display_name": "Python 3 (ipykernel)",
   "language": "python",
   "name": "python3"
  },
  "language_info": {
   "codemirror_mode": {
    "name": "ipython",
    "version": 3
   },
   "file_extension": ".py",
   "mimetype": "text/x-python",
   "name": "python",
   "nbconvert_exporter": "python",
   "pygments_lexer": "ipython3",
   "version": "3.13.5"
  }
 },
 "nbformat": 4,
 "nbformat_minor": 5
}
